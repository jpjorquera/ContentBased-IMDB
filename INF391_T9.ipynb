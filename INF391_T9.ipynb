{
 "cells": [
  {
   "cell_type": "markdown",
   "metadata": {
    "colab_type": "text",
    "id": "9vrqXvPo-L-A"
   },
   "source": [
    "# INF391 - Tarea 9\n",
    "El objetivo de esta tarea es construir un sistema de recomendación basado en contenido usando procesamiento del lenguaje natural.\n",
    "- El conjunto de datos son las 250 películas mejor ranqueadas de IMDB.\n",
    "- Las recomendaciones estarán basadas en información como directores, actores, género y descripción de la película.\n",
    "- Realizar una limpieza de los datos para considerar solo las palabras más relevantes de la descripción de la película.\n",
    "- Vectorizar cada película y calcular su similaridad con el resto.\n",
    "- La entrada será el título de una película y la salida debe ser una lista con las 10 más similares (Top-10).\n",
    "- ¿Cómo cambian las recomendaciones si están basadas únicamente en el título de la película?\n",
    "- ¿Alguna otra *feature* del conjunto original sería interesante incluir en el análisis?"
   ]
  },
  {
   "cell_type": "code",
   "execution_count": 1,
   "metadata": {
    "colab": {},
    "colab_type": "code",
    "id": "uXpzEngJQB7J"
   },
   "outputs": [],
   "source": [
    "import pandas as pd\n",
    "df = pd.read_csv('IMDB_Top250.csv')"
   ]
  },
  {
   "cell_type": "code",
   "execution_count": 2,
   "metadata": {
    "colab": {
     "base_uri": "https://localhost:8080/",
     "height": 204
    },
    "colab_type": "code",
    "id": "UP7ocaC9Q5rz",
    "outputId": "7d6055c9-5372-4938-a917-3eeb4951fdc1"
   },
   "outputs": [
    {
     "data": {
      "text/html": [
       "<div>\n",
       "<style scoped>\n",
       "    .dataframe tbody tr th:only-of-type {\n",
       "        vertical-align: middle;\n",
       "    }\n",
       "\n",
       "    .dataframe tbody tr th {\n",
       "        vertical-align: top;\n",
       "    }\n",
       "\n",
       "    .dataframe thead th {\n",
       "        text-align: right;\n",
       "    }\n",
       "</style>\n",
       "<table border=\"1\" class=\"dataframe\">\n",
       "  <thead>\n",
       "    <tr style=\"text-align: right;\">\n",
       "      <th></th>\n",
       "      <th>Title</th>\n",
       "      <th>Genre</th>\n",
       "      <th>Director</th>\n",
       "      <th>Actors</th>\n",
       "      <th>Plot</th>\n",
       "    </tr>\n",
       "  </thead>\n",
       "  <tbody>\n",
       "    <tr>\n",
       "      <th>0</th>\n",
       "      <td>The Shawshank Redemption</td>\n",
       "      <td>Crime, Drama</td>\n",
       "      <td>Frank Darabont</td>\n",
       "      <td>Tim Robbins, Morgan Freeman, Bob Gunton, Willi...</td>\n",
       "      <td>Two imprisoned men bond over a number of years...</td>\n",
       "    </tr>\n",
       "    <tr>\n",
       "      <th>1</th>\n",
       "      <td>The Godfather</td>\n",
       "      <td>Crime, Drama</td>\n",
       "      <td>Francis Ford Coppola</td>\n",
       "      <td>Marlon Brando, Al Pacino, James Caan, Richard ...</td>\n",
       "      <td>The aging patriarch of an organized crime dyna...</td>\n",
       "    </tr>\n",
       "    <tr>\n",
       "      <th>2</th>\n",
       "      <td>The Godfather: Part II</td>\n",
       "      <td>Crime, Drama</td>\n",
       "      <td>Francis Ford Coppola</td>\n",
       "      <td>Al Pacino, Robert Duvall, Diane Keaton, Robert...</td>\n",
       "      <td>The early life and career of Vito Corleone in ...</td>\n",
       "    </tr>\n",
       "    <tr>\n",
       "      <th>3</th>\n",
       "      <td>The Dark Knight</td>\n",
       "      <td>Action, Crime, Drama</td>\n",
       "      <td>Christopher Nolan</td>\n",
       "      <td>Christian Bale, Heath Ledger, Aaron Eckhart, M...</td>\n",
       "      <td>When the menace known as the Joker emerges fro...</td>\n",
       "    </tr>\n",
       "    <tr>\n",
       "      <th>4</th>\n",
       "      <td>12 Angry Men</td>\n",
       "      <td>Crime, Drama</td>\n",
       "      <td>Sidney Lumet</td>\n",
       "      <td>Martin Balsam, John Fiedler, Lee J. Cobb, E.G....</td>\n",
       "      <td>A jury holdout attempts to prevent a miscarria...</td>\n",
       "    </tr>\n",
       "  </tbody>\n",
       "</table>\n",
       "</div>"
      ],
      "text/plain": [
       "                      Title                 Genre              Director  \\\n",
       "0  The Shawshank Redemption          Crime, Drama        Frank Darabont   \n",
       "1             The Godfather          Crime, Drama  Francis Ford Coppola   \n",
       "2    The Godfather: Part II          Crime, Drama  Francis Ford Coppola   \n",
       "3           The Dark Knight  Action, Crime, Drama     Christopher Nolan   \n",
       "4              12 Angry Men          Crime, Drama          Sidney Lumet   \n",
       "\n",
       "                                              Actors  \\\n",
       "0  Tim Robbins, Morgan Freeman, Bob Gunton, Willi...   \n",
       "1  Marlon Brando, Al Pacino, James Caan, Richard ...   \n",
       "2  Al Pacino, Robert Duvall, Diane Keaton, Robert...   \n",
       "3  Christian Bale, Heath Ledger, Aaron Eckhart, M...   \n",
       "4  Martin Balsam, John Fiedler, Lee J. Cobb, E.G....   \n",
       "\n",
       "                                                Plot  \n",
       "0  Two imprisoned men bond over a number of years...  \n",
       "1  The aging patriarch of an organized crime dyna...  \n",
       "2  The early life and career of Vito Corleone in ...  \n",
       "3  When the menace known as the Joker emerges fro...  \n",
       "4  A jury holdout attempts to prevent a miscarria...  "
      ]
     },
     "execution_count": 2,
     "metadata": {},
     "output_type": "execute_result"
    }
   ],
   "source": [
    "df = df[['Title','Genre','Director','Actors','Plot']]\n",
    "df.head()"
   ]
  },
  {
   "cell_type": "code",
   "execution_count": 3,
   "metadata": {},
   "outputs": [],
   "source": [
    "# Librerías a utilizar\n",
    "import numpy as np\n",
    "from nltk.stem import WordNetLemmatizer\n",
    "from nltk.corpus import stopwords\n",
    "from sklearn.metrics.pairwise import cosine_similarity"
   ]
  },
  {
   "cell_type": "markdown",
   "metadata": {},
   "source": [
    "# Desarrollo\n",
    "\n",
    "Para realizar la recomendación, se irá explicando el paso a paso para entender el desarrollo e ir cumpliendo con los objetivos esperados, además de entender las decisiones que se fueron tomando en las distintas etapas.\n",
    "\n",
    "En primer lugar, se decidió utilizar por defecto la información del (o los) directos, actores, género y descripción de la trama, además de utilizar el mismo título de la película en el análisis al incluir términos que pueden ser relevantes en el contenido a analizar. Es por ello que se trabajó el dataframe, estandarizando a minúsculas, eliminando puntuación y stopwords conocidas en inglés, según la librería nltk."
   ]
  },
  {
   "cell_type": "code",
   "execution_count": 4,
   "metadata": {},
   "outputs": [],
   "source": [
    "# Limpieza dataframe\n",
    "def limpiar_df(df):\n",
    "    ## A lower case y eliminar puntuación\n",
    "    ## (Dejar nombres capitalizados)\n",
    "    df['Title-clean'] = df['Title'].str.lower().str.replace('[,.:]', '', regex=True)\n",
    "    df['Genre'] = df['Genre'].str.lower().str.replace(',', '', regex=True)\n",
    "    df['Plot'] = df['Plot'].str.lower().str.replace('[,.:]', '', regex=True)\n",
    "    df['Actors'] = df['Actors'].str.replace('[,.:]', '', regex=True)\n",
    "    df['Director'] = df['Director'].str.replace('[,.:]', '', regex=True)\n",
    "    ## Eliminar stopwords de plot\n",
    "    sw = stopwords.words('english')\n",
    "    df['Title-clean'] = df['Title-clean'].apply(lambda x: ' '.join([palabra for palabra in x.split() if palabra not in sw]))\n",
    "    df['Plot'] = df['Plot'].apply(lambda x: ' '.join([palabra for palabra in x.split() if palabra not in sw]))\n",
    "    # Agregar columna ID\n",
    "    df['id'] = df.index"
   ]
  },
  {
   "cell_type": "markdown",
   "metadata": {},
   "source": [
    "Con el dataframe limpio, resulta necesario componer todo el contenido (de directores, descripción, título, etc.) en un solo objeto para poder realizar la comparación. Luego, dicho objeto se debe analizar usando nlp para estandarizar los términos ahí incluidos. Para ello se convirtió todo el contenido en lemmas."
   ]
  },
  {
   "cell_type": "code",
   "execution_count": 5,
   "metadata": {},
   "outputs": [],
   "source": [
    "# Unir contenido en un string\n",
    "# lista de features\n",
    "def componerContenido(df, features):\n",
    "    df_contenido = pd.DataFrame(index=df.index)\n",
    "    df_contenido['id'] = df['id']\n",
    "    # Concatenar\n",
    "    total = \"\"\n",
    "    for feat in features:\n",
    "        parcial = df[feat]\n",
    "        total += \" \"+parcial\n",
    "    df_contenido['contenido'] = total\n",
    "    df_contenido['contenido'].str.strip()\n",
    "    return df_contenido\n",
    "\n",
    "# Proceso de lemmatización\n",
    "lemmatizer = WordNetLemmatizer()\n",
    "lematizar = lambda string: lemmatizer.lemmatize(string)\n",
    "\n",
    "# Transformar lista en lista lematizada\n",
    "def lemmatizarLista(lista):\n",
    "    lista=list(map(lematizar,lista))\n",
    "    return lista\n",
    "\n",
    "# Transformar string con contenido completo en lemma\n",
    "def lemmatizarContenido(df):\n",
    "    df['lemma'] = df['contenido'].str.split().apply(lambda x: lemmatizarLista(x))"
   ]
  },
  {
   "cell_type": "markdown",
   "metadata": {},
   "source": [
    "Luego, con el contenido lematizado, se debe vectorizar, calculando las frecuencias y el tf-idf para poder evaluar comparativamente el contenido. Después, con la matriz con el contenido de la película vectorizado, se calcula la similaridad coseno, para poder recomendar los más parecidos."
   ]
  },
  {
   "cell_type": "code",
   "execution_count": 6,
   "metadata": {},
   "outputs": [],
   "source": [
    "# Aplicar funciones antes definidas para pre procesar datos según los\n",
    "# features deseados\n",
    "def preProcess(df, features=['Title', 'Genre', 'Director', 'Actors', 'Plot']):\n",
    "    limpiar_df(df)\n",
    "    contenido = componerContenido(df, features)\n",
    "    lemmatizarContenido(contenido)\n",
    "    return contenido\n",
    "\n",
    "# Vectorizar contenido y armar las matrices de frecuencias y tf-idf\n",
    "def vectorizar(contenido):\n",
    "    # Obtener cada palabra en el contenido, el cual incluye todas las películas\n",
    "    palabras = sum(contenido['lemma'].tolist(), [])\n",
    "    palabras = list(set(palabras))\n",
    "    # Inicializar variables frecuencia, idf\n",
    "    D = df.shape[0]\n",
    "    n_palabras = len(palabras)\n",
    "    frecuencias = np.zeros((n_palabras, D))\n",
    "    idf = np.zeros((n_palabras))\n",
    "    # Contar frecuencia apariciones en cada película\n",
    "    # y películas que la incluyen para idf\n",
    "    i = 0\n",
    "    size = contenido.shape[0]\n",
    "    for pal in palabras:\n",
    "        D_actual = 0\n",
    "        for j in range(size):\n",
    "            freq = contenido['lemma'][j].count(pal)\n",
    "            frecuencias[i][j] = freq\n",
    "            if freq > 0:\n",
    "                D_actual += 1\n",
    "        idf[i] = np.log2(D/D_actual)\n",
    "        i += 1\n",
    "    # Con las frecuencias calcular tf\n",
    "    tf = np.copy(frecuencias)\n",
    "    i = 0\n",
    "    for pal in palabras:\n",
    "        for j in range(size):\n",
    "            tf_j = frecuencias[i][j]\n",
    "            tf_doc = np.sum(frecuencias[:][j])\n",
    "            tf[i][j] = tf_j / tf_doc\n",
    "        i += 1\n",
    "    # Calcular tf-idf\n",
    "    tf_idf = (tf.T * idf).T\n",
    "    return frecuencias, tf_idf\n",
    "\n",
    "# Cálculo similitud coseno vectores\n",
    "def similitudCos(tf_idf):\n",
    "    similitud = cosine_similarity(tf_idf.T)\n",
    "    return similitud"
   ]
  },
  {
   "cell_type": "markdown",
   "metadata": {},
   "source": [
    "Finalmente, ya con la matriz de películas vectorizadas se procede a recomendar las Top 10 dada una película en específico."
   ]
  },
  {
   "cell_type": "code",
   "execution_count": 7,
   "metadata": {},
   "outputs": [],
   "source": [
    "# Armar lista con las top N películas dado un título dentro del listado de las top 250 de imdb\n",
    "def topN_peliculas(df_peliculas, pelicula, similitud, Ntop=10):\n",
    "    size = similitud.shape[0]\n",
    "    # Quitar diagonal (1 siempre es el más alto)\n",
    "    similitud_sin_diag = similitud - np.eye(size)\n",
    "    # Obtener id según el título de la película\n",
    "    index_pelicula = df_peliculas[df_peliculas['Title'] == pelicula]['id'].item()\n",
    "    top_peliculas = []\n",
    "    scores = []\n",
    "    for i in range(Ntop):\n",
    "        # Calcular máximo\n",
    "        max_score = similitud_sin_diag[index_pelicula].max()\n",
    "        index_top = similitud_sin_diag[index_pelicula].argmax()\n",
    "        # Quitar top de lista actual\n",
    "        similitud_sin_diag[index_pelicula, index_top] = -1\n",
    "        # Extraer pelicula top\n",
    "        pelicula_top = df_peliculas[(df_peliculas['id'] == index_top)]['Title'].item()\n",
    "        top_peliculas.append(pelicula_top)\n",
    "        scores.append(max_score)\n",
    "    return top_peliculas, scores\n",
    "\n",
    "# Mostrar peliculas top con puntaje\n",
    "def imprimirTopN(titulo_pelicula, top_peliculas, scores):\n",
    "    print(\"\\nPelícula \\\"\"+titulo_pelicula+\"\\\"\")\n",
    "    i = 0\n",
    "    while (i<10):\n",
    "        print(str(i+1)+\". \\\"\"+top_peliculas[i]+\"\\\" - Score: \"+str(np.round(scores[i], 3)))\n",
    "        i+=1\n",
    "    print(\"\\n\")"
   ]
  },
  {
   "cell_type": "markdown",
   "metadata": {},
   "source": [
    "Así, realizamos el proceso completo y probamos con tres casos arbitrarios para poder evaluar los resultados. En este caso se escogieron: \"The Godfather\", \"Inside Out\" y \"Pulp Fiction\".\n"
   ]
  },
  {
   "cell_type": "code",
   "execution_count": 8,
   "metadata": {},
   "outputs": [],
   "source": [
    "df_copia = df.copy()\n",
    "contenido = preProcess(df_copia)\n",
    "freqs, tf_idf = vectorizar(contenido)\n",
    "similitud = similitudCos(tf_idf)"
   ]
  },
  {
   "cell_type": "code",
   "execution_count": 9,
   "metadata": {},
   "outputs": [
    {
     "name": "stdout",
     "output_type": "stream",
     "text": [
      "\n",
      "Película \"The Godfather\"\n",
      "1. \"The Godfather: Part II\" - Score: 0.181\n",
      "2. \"Apocalypse Now\" - Score: 0.145\n",
      "3. \"On the Waterfront\" - Score: 0.073\n",
      "4. \"Scarface\" - Score: 0.069\n",
      "5. \"Heat\" - Score: 0.061\n",
      "6. \"The Night of the Hunter\" - Score: 0.06\n",
      "7. \"A Streetcar Named Desire\" - Score: 0.058\n",
      "8. \"Guardians of the Galaxy\" - Score: 0.056\n",
      "9. \"Casino\" - Score: 0.051\n",
      "10. \"Who's Afraid of Virginia Woolf?\" - Score: 0.044\n",
      "\n",
      "\n"
     ]
    }
   ],
   "source": [
    "titulo = \"The Godfather\"\n",
    "topN, scores = topN_peliculas(df_copia, pelicula=titulo, similitud=similitud)\n",
    "imprimirTopN(titulo, topN, scores)"
   ]
  },
  {
   "cell_type": "code",
   "execution_count": 10,
   "metadata": {},
   "outputs": [
    {
     "name": "stdout",
     "output_type": "stream",
     "text": [
      "\n",
      "Película \"Inside Out\"\n",
      "1. \"Up\" - Score: 0.07\n",
      "2. \"Monsters, Inc.\" - Score: 0.068\n",
      "3. \"Spider-Man: Homecoming\" - Score: 0.062\n",
      "4. \"Vertigo\" - Score: 0.059\n",
      "5. \"Harvey\" - Score: 0.048\n",
      "6. \"L.A. Confidential\" - Score: 0.046\n",
      "7. \"Out of the Past\" - Score: 0.041\n",
      "8. \"Groundhog Day\" - Score: 0.037\n",
      "9. \"Mr. Smith Goes to Washington\" - Score: 0.035\n",
      "10. \"The Grapes of Wrath\" - Score: 0.033\n",
      "\n",
      "\n"
     ]
    }
   ],
   "source": [
    "titulo = \"Inside Out\"\n",
    "topN, scores = topN_peliculas(df_copia, pelicula=titulo, similitud=similitud)\n",
    "imprimirTopN(titulo, topN, scores)"
   ]
  },
  {
   "cell_type": "code",
   "execution_count": 11,
   "metadata": {},
   "outputs": [
    {
     "name": "stdout",
     "output_type": "stream",
     "text": [
      "\n",
      "Película \"Pulp Fiction\"\n",
      "1. \"Reservoir Dogs\" - Score: 0.107\n",
      "2. \"The Shawshank Redemption\" - Score: 0.106\n",
      "3. \"Inglourious Basterds\" - Score: 0.091\n",
      "4. \"Some Like It Hot\" - Score: 0.079\n",
      "5. \"Django Unchained\" - Score: 0.067\n",
      "6. \"Goodfellas\" - Score: 0.056\n",
      "7. \"Rope\" - Score: 0.054\n",
      "8. \"Raging Bull\" - Score: 0.05\n",
      "9. \"Sin City\" - Score: 0.049\n",
      "10. \"A Beautiful Mind\" - Score: 0.046\n",
      "\n",
      "\n"
     ]
    }
   ],
   "source": [
    "titulo = \"Pulp Fiction\"\n",
    "topN, scores = topN_peliculas(df_copia, pelicula=titulo, similitud=similitud)\n",
    "imprimirTopN(titulo, topN, scores)"
   ]
  },
  {
   "cell_type": "markdown",
   "metadata": {},
   "source": [
    "Así, para \"El padrino\" se obtiene lo esperado que la principal recomendación es la parte II, ya que en todo sentido son similares. En \"Pulp Fiction\" fue capaz de reconocer películas de temáticas parecidas y incluso recomendó muchas películas de Tarantino en el listado. Igualmente, para \"Inside Out\", las recomendaciones principalmente se basron en películas animadas y de contenido más ligero como comedias.\n",
    "\n",
    "Para concluir, se puede ver que las recomendaciones hechas son capaces de inferir del contenido cosas importantes de las películas, así como sus actores, directores, temática o el tipo de película en cuestión. Las recomendaciones además, pueden incluir otras películas que a simple vista no parecerían tener tanta relación."
   ]
  },
  {
   "cell_type": "code",
   "execution_count": null,
   "metadata": {},
   "outputs": [],
   "source": []
  },
  {
   "cell_type": "markdown",
   "metadata": {},
   "source": [
    "- ¿Cómo cambian las recomendaciones si están basadas únicamente en el título de la película?\n",
    "- ¿Alguna otra *feature* del conjunto original sería interesante incluir en el análisis?"
   ]
  },
  {
   "cell_type": "code",
   "execution_count": null,
   "metadata": {},
   "outputs": [],
   "source": []
  }
 ],
 "metadata": {
  "colab": {
   "collapsed_sections": [],
   "name": "INF391_T9.ipynb",
   "provenance": [],
   "toc_visible": true
  },
  "kernelspec": {
   "display_name": "Python 3",
   "language": "python",
   "name": "python3"
  },
  "language_info": {
   "codemirror_mode": {
    "name": "ipython",
    "version": 3
   },
   "file_extension": ".py",
   "mimetype": "text/x-python",
   "name": "python",
   "nbconvert_exporter": "python",
   "pygments_lexer": "ipython3",
   "version": "3.7.3"
  }
 },
 "nbformat": 4,
 "nbformat_minor": 4
}
